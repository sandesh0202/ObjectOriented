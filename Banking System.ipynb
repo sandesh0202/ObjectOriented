{
 "cells": [
  {
   "cell_type": "code",
   "execution_count": null,
   "metadata": {},
   "outputs": [],
   "source": [
    "# Copied for Practice"
   ]
  },
  {
   "cell_type": "code",
   "execution_count": 3,
   "metadata": {},
   "outputs": [],
   "source": [
    "class User():\n",
    "    def __init__(self, name, age, gender):\n",
    "        self.name = name \n",
    "        self.age = age\n",
    "        self.gender = gender\n",
    "        \n",
    "    def show_details(self):\n",
    "        print(\"Personal Details\")\n",
    "        print(\"\")\n",
    "        print(\"Name\", self.name)\n",
    "        print(\"Age\", self.age)\n",
    "        print(\"Gender\", self.gender)\n"
   ]
  },
  {
   "cell_type": "code",
   "execution_count": 4,
   "metadata": {},
   "outputs": [
    {
     "name": "stdout",
     "output_type": "stream",
     "text": [
      "Personal Details\n",
      "\n",
      "Name John\n",
      "Age 21\n",
      "Gender Male\n"
     ]
    }
   ],
   "source": [
    "johns = User(\"John\", 21, \"Male\")\n",
    "johns.show_details()"
   ]
  },
  {
   "cell_type": "code",
   "execution_count": 18,
   "metadata": {},
   "outputs": [],
   "source": [
    "class Bank(User):\n",
    "    def __init__(self, name, age, gender):\n",
    "        super().__init__(name, age, gender)\n",
    "        self.balance = 0\n",
    "        \n",
    "    def deposit(self, amount):\n",
    "        self.amount = amount\n",
    "        self.balance = self.balance+ self.amount\n",
    "        print(\"Account balance has been update: \", self.balance)\n",
    "        \n",
    "    def withdraw(self, amount):\n",
    "        self.amount =amount\n",
    "        if self.amount > self.balance:\n",
    "            print(\"Insufficient Funds : Avilable Balance \", self.balance)\n",
    "            \n",
    "        else:\n",
    "            self.balance = self.balance - self.amount\n",
    "            print(\"Account has been updated \" , self.balance)\n",
    "            \n",
    "    def view_balance(self):\n",
    "        \n",
    "        self.show_details()\n",
    "        print(\"Account balance is \" , self.balance)"
   ]
  },
  {
   "cell_type": "code",
   "execution_count": 21,
   "metadata": {},
   "outputs": [
    {
     "name": "stdout",
     "output_type": "stream",
     "text": [
      "Account balance has been update:  1000\n"
     ]
    }
   ],
   "source": [
    "john = Bank(\"John\", 20, \"Male\")\n",
    "john.deposit(1000)"
   ]
  },
  {
   "cell_type": "code",
   "execution_count": 22,
   "metadata": {},
   "outputs": [
    {
     "name": "stdout",
     "output_type": "stream",
     "text": [
      "Account has been updated  900\n"
     ]
    }
   ],
   "source": [
    "john.withdraw(100)"
   ]
  },
  {
   "cell_type": "code",
   "execution_count": 23,
   "metadata": {},
   "outputs": [
    {
     "name": "stdout",
     "output_type": "stream",
     "text": [
      "Personal Details\n",
      "\n",
      "Name John\n",
      "Age 20\n",
      "Gender Male\n",
      "Account balance is  900\n"
     ]
    }
   ],
   "source": [
    "john.view_balance()"
   ]
  },
  {
   "cell_type": "code",
   "execution_count": null,
   "metadata": {},
   "outputs": [],
   "source": []
  },
  {
   "cell_type": "code",
   "execution_count": null,
   "metadata": {},
   "outputs": [],
   "source": []
  }
 ],
 "metadata": {
  "kernelspec": {
   "display_name": "base",
   "language": "python",
   "name": "python3"
  },
  "language_info": {
   "codemirror_mode": {
    "name": "ipython",
    "version": 3
   },
   "file_extension": ".py",
   "mimetype": "text/x-python",
   "name": "python",
   "nbconvert_exporter": "python",
   "pygments_lexer": "ipython3",
   "version": "3.8.8"
  }
 },
 "nbformat": 4,
 "nbformat_minor": 2
}
