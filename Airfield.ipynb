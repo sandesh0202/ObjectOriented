{
 "cells": [
  {
   "cell_type": "code",
   "execution_count": 1,
   "metadata": {},
   "outputs": [],
   "source": [
    "# () = methods\n",
    "# [] = properties\n",
    "# purple for abstract classes -> object cannot be created from it"
   ]
  },
  {
   "cell_type": "code",
   "execution_count": 2,
   "metadata": {},
   "outputs": [],
   "source": [
    "from abc import ABC, abstractmethod"
   ]
  },
  {
   "cell_type": "code",
   "execution_count": 3,
   "metadata": {},
   "outputs": [
    {
     "name": "stdout",
     "output_type": "stream",
     "text": [
      "True\n"
     ]
    }
   ],
   "source": [
    "class Pilot():\n",
    "    def __init__(self, IsonBoard, PilotWeight, Experience):\n",
    "        self.IsonBoard = IsonBoard\n",
    "        self.PilotWeight = PilotWeight\n",
    "        self.Experience = Experience\n",
    "        \n",
    "    def Eject(self):\n",
    "        if True:\n",
    "            self.IsonBoard = False\n",
    "        \n",
    "    def Board(self):\n",
    "        if True:\n",
    "            self.IsonBoard = True\n",
    "            \n",
    "John = Pilot(IsonBoard=True, PilotWeight=72, Experience=10)\n",
    "John.Board()\n",
    "print(John.IsonBoard)"
   ]
  },
  {
   "cell_type": "code",
   "execution_count": 4,
   "metadata": {},
   "outputs": [],
   "source": [
    "class Engine():\n",
    "    def __init__(self, Type, MaxPower) -> None:\n",
    "        self.Type = Type\n",
    "        self.MaxPower = MaxPower\n",
    "    \n",
    "    def GetConsumption(self):\n",
    "        if self.Type.lower() == \"General Electric CF6\":\n",
    "            if self.MaxPower <= 313: #maxpower is 313 KN\n",
    "                consumption = 10 # 10 litre/km\n",
    "                return consumption\n",
    "        \n",
    "        elif self.Type.lower() == \"Pratt & Whitney PW4000\":\n",
    "            if self.MaxPower <= 275: #maxpower is 275 KN\n",
    "                consumption = 8 # 10 litre/km\n",
    "                return consumption\n",
    "        \n",
    "        elif self.Type.lower() == \"Rolls-Royce Trent\":\n",
    "            if self.MaxPower <= 431: #maxpower is 431\n",
    "                consumption = 12 #12 litres/km\n",
    "                return consumption\n",
    "        \n",
    "        else: \n",
    "            return \"Engine type is unknown to me.\""
   ]
  },
  {
   "cell_type": "code",
   "execution_count": 5,
   "metadata": {},
   "outputs": [],
   "source": [
    "class Engines():\n",
    "    def __init__(self, count):\n",
    "        self.count = count\n",
    "        self.engine = Engine(\"General Electric CF6\", MaxPower=300)\n",
    "        "
   ]
  },
  {
   "cell_type": "code",
   "execution_count": 6,
   "metadata": {},
   "outputs": [
    {
     "data": {
      "text/plain": [
       "'General Electric CF6'"
      ]
     },
     "execution_count": 6,
     "metadata": {},
     "output_type": "execute_result"
    }
   ],
   "source": [
    "engines = Engines(2)\n",
    "engines.engine.Type"
   ]
  },
  {
   "cell_type": "code",
   "execution_count": 7,
   "metadata": {},
   "outputs": [],
   "source": [
    "class Payload():\n",
    "    def __init__(self, Type, PayloadWeight):\n",
    "        self.PayloadType = Type\n",
    "        self.PayloadWeight = PayloadWeight\n",
    "        "
   ]
  },
  {
   "cell_type": "code",
   "execution_count": 44,
   "metadata": {},
   "outputs": [],
   "source": [
    "class Payloads():\n",
    "    def __init__(self, payloads):\n",
    "      #  self.count = len(payloads)\n",
    "        self.payloads = payloads\n",
    "        \n",
    "    def Add(self, payload_item):\n",
    "        self.payload_item = payload_item\n",
    "        self.payloads.append(self.payload_item)\n",
    "        \n",
    "    def Remove(self, payload_item):\n",
    "        try:\n",
    "            self.payload_item = payload_item\n",
    "            self.payloads.remove(self.payload_item)\n",
    "            \n",
    "        except Exception as e:\n",
    "            return  e\n",
    "        \n",
    "    def Item(self, payload_item):\n",
    "        for i in range(len(self.payloads)):\n",
    "            item = self.payloads[i].PayloadType\n",
    "            if item == payload_item:\n",
    "                print(f\"{payload_item} present in Payloads\")\n",
    "        else:\n",
    "            print(f\"{payload_item} is not present\")"
   ]
  },
  {
   "cell_type": "code",
   "execution_count": null,
   "metadata": {},
   "outputs": [],
   "source": []
  },
  {
   "cell_type": "code",
   "execution_count": 45,
   "metadata": {},
   "outputs": [
    {
     "name": "stdout",
     "output_type": "stream",
     "text": [
      "Cullinary\n",
      "Tissue is not present\n"
     ]
    }
   ],
   "source": [
    "payload1 = Payload(\"Courier\",  500)\n",
    "payload2 = Payload(\"Luggage\", 3000)\n",
    "payload3 = Payload(\"Oxygen Mask\", 10)\n",
    "new_payload = Payload(\"Cullinary\", 100)\n",
    "\n",
    "payloads = Payloads(payloads=[payload1, payload2, payload3])\n",
    "payloads.Add(new_payload)\n",
    "print(payloads.payloads[3].PayloadType)\n",
    "\n",
    "payloads.Item(\"Tissue\")"
   ]
  },
  {
   "cell_type": "code",
   "execution_count": 10,
   "metadata": {},
   "outputs": [],
   "source": [
    "class Wings():\n",
    "    def __init__(self, WingType, SweptAngle, FlyMode=True):\n",
    "        self.WingType = WingType\n",
    "        self.SweptAngle = SweptAngle\n",
    "        self.FlyMode = FlyMode\n",
    "        \n",
    "    def SetFlyMode(self, FlyMode):\n",
    "        self.FlyMode = FlyMode\n",
    "    \n",
    "    def GetFlyMode(self):\n",
    "        return self.FlyMode"
   ]
  },
  {
   "cell_type": "code",
   "execution_count": 11,
   "metadata": {},
   "outputs": [],
   "source": [
    "wings = Wings(\"Trapezoidal\", 30.3)\n",
    "wings.SetFlyMode(FlyMode=False)"
   ]
  },
  {
   "cell_type": "code",
   "execution_count": 12,
   "metadata": {},
   "outputs": [
    {
     "data": {
      "text/plain": [
       "False"
      ]
     },
     "execution_count": 12,
     "metadata": {},
     "output_type": "execute_result"
    }
   ],
   "source": [
    "wings.GetFlyMode()"
   ]
  },
  {
   "cell_type": "code",
   "execution_count": 13,
   "metadata": {},
   "outputs": [],
   "source": [
    "class Aircraft(ABC):\n",
    "    def __init__(self, IsFlying, Colour, Type):\n",
    "        self.IsFlying = IsFlying\n",
    "        self.Colour = Colour\n",
    "        self.Type = Type\n",
    "    \n",
    "    def GoUp(self):\n",
    "        self.Position = \"Up\"\n",
    "    \n",
    "    def GoDown(self):\n",
    "        self.Position = \"Down\"\n",
    "\n",
    "    def GetPosition(self):\n",
    "        return self.Position"
   ]
  },
  {
   "cell_type": "code",
   "execution_count": 14,
   "metadata": {},
   "outputs": [],
   "source": [
    "class Airplane(Aircraft):\n",
    "    def __init__(self, Pilot, IsFlying, Colour, Type):\n",
    "        self.Pilot = Pilot\n",
    "        self.PlaneEngines = Engines(2)\n",
    "        self.Payloads = Payloads(payloads=[payload1, payload2, payload3])\n",
    "        self.Wings = Wings(\"Trapezoidal\", 30.3)\n",
    "        super().__init__(IsFlying, Colour, Type)\n",
    "    \n",
    "    def SetRPath(self, RPath):\n",
    "        self.RPath = RPath\n",
    "    \n",
    "    def SetRVel(self, RVel):\n",
    "        self.RVel = RVel\n",
    "    \n",
    "    def GetRPath(self):\n",
    "        return self.RPath\n",
    "    \n",
    "    def GetRVel(self):\n",
    "        return self.RVel"
   ]
  },
  {
   "cell_type": "code",
   "execution_count": 15,
   "metadata": {},
   "outputs": [
    {
     "data": {
      "text/plain": [
       "'Up'"
      ]
     },
     "execution_count": 15,
     "metadata": {},
     "output_type": "execute_result"
    }
   ],
   "source": [
    "plane1 = Airplane(John, True, \"White\", \"General Electric CF6\")\n",
    "plane1.GoUp()\n",
    "plane1.GetPosition()"
   ]
  },
  {
   "cell_type": "code",
   "execution_count": 46,
   "metadata": {},
   "outputs": [],
   "source": [
    "Pilot1 = Pilot(IsonBoard=True, PilotWeight=72, Experience=10)\n",
    "\n",
    "engines = Engines(2)\n",
    "engine = engines.engine\n",
    "\n",
    "payload1 = Payload(\"Courier\",  500)\n",
    "payload2 = Payload(\"Luggage\", 3000)\n",
    "payload3 = Payload(\"Oxygen Mask\", 10)\n",
    "payloads_class = Payloads([payload1, payload2, payload3])\n",
    "payloads_class.Add(new_payload)\n",
    "\n",
    "Wings1 = Wings(\"Trapezoidal\", 30.3)\n",
    "\n",
    "plane1 = Airplane(Pilot=Pilot1, IsFlying=True, Colour = \"White\", Type=\"General Electric CF6\")"
   ]
  },
  {
   "cell_type": "code",
   "execution_count": 18,
   "metadata": {},
   "outputs": [],
   "source": [
    "class Rotor():\n",
    "    def __init__(self, RotorType):\n",
    "        self.RotorType = RotorType"
   ]
  },
  {
   "cell_type": "code",
   "execution_count": 19,
   "metadata": {},
   "outputs": [],
   "source": [
    "class Helicoptor(Aircraft): #Helicoptor has only 1 Engine\n",
    "    def __init__(self, Pilot, IsFlying, Colour, Type):\n",
    "        self.Pilot = Pilot\n",
    "        self.Engine = Engine(\"Turbo Jet\", 134) # 134kW       \n",
    "        self.Payloads = Payloads(payloads=[payload1, payload2])\n",
    "        self.Rotor = Rotor(\"Fully Articulated\")\n",
    "        super().__init__(IsFlying, Colour, Type)\n",
    "        \n",
    "    def Rotate(self, RotateAngle):\n",
    "        self.RPath = RotateAngle        \n",
    "        \n",
    "    def SetRVel(self, RVel):\n",
    "        self.RVel = RVel\n",
    "        \n",
    "    def GetRPath(self):\n",
    "        return self.RPath\n",
    "        \n",
    "    def GetRVel(self):\n",
    "        return self.RVel"
   ]
  },
  {
   "cell_type": "code",
   "execution_count": 20,
   "metadata": {},
   "outputs": [],
   "source": [
    "class Balloon(Aircraft):\n",
    "    def __init__(self, Pilot, IsFlying, Colour, Type):\n",
    "        self.Pilot = Pilot\n",
    "        self.Payloads = Payloads(payloads=[payload1, payload2])\n",
    "        super().__init__(IsFlying, Colour, Type)\n",
    "        "
   ]
  },
  {
   "cell_type": "code",
   "execution_count": 23,
   "metadata": {},
   "outputs": [],
   "source": [
    "aircraft = Aircraft\n",
    "\n",
    "class Airfield():\n",
    "    def __init__(self, Size):\n",
    "        self.Size = Size\n",
    "        self.aircraft1 = Airplane(Pilot=Pilot1, IsFlying=True, Colour = \"White\", Type=\"General Electric CF6\")\n",
    "        \n",
    "    def get_aircraft(self):\n",
    "        self.aircraft1.GoDown()\n",
    "        print(self.aircraft1.GetPosition())\n"
   ]
  },
  {
   "cell_type": "code",
   "execution_count": 47,
   "metadata": {},
   "outputs": [],
   "source": [
    "class Wind():\n",
    "    def __init__(self, Direction, Velocity):\n",
    "        self.Direction = Direction\n",
    "        self.Velocity = Velocity\n",
    "    "
   ]
  },
  {
   "cell_type": "code",
   "execution_count": 48,
   "metadata": {},
   "outputs": [],
   "source": [
    "class AnyObject():\n",
    "    def __init__(self, Name, Object):\n",
    "        self.Name = Name\n",
    "        self.Object = Object"
   ]
  },
  {
   "cell_type": "code",
   "execution_count": 24,
   "metadata": {},
   "outputs": [
    {
     "name": "stdout",
     "output_type": "stream",
     "text": [
      "Down\n"
     ]
    }
   ],
   "source": [
    "field = Airfield(4)\n",
    "\n",
    "field.get_aircraft()"
   ]
  },
  {
   "cell_type": "code",
   "execution_count": 28,
   "metadata": {},
   "outputs": [
    {
     "data": {
      "text/plain": [
       "'General Electric CF6'"
      ]
     },
     "execution_count": 28,
     "metadata": {},
     "output_type": "execute_result"
    }
   ],
   "source": [
    "engines = field.aircraft1.PlaneEngines.engine.Type\n",
    "engines"
   ]
  }
 ],
 "metadata": {
  "kernelspec": {
   "display_name": "base",
   "language": "python",
   "name": "python3"
  },
  "language_info": {
   "codemirror_mode": {
    "name": "ipython",
    "version": 3
   },
   "file_extension": ".py",
   "mimetype": "text/x-python",
   "name": "python",
   "nbconvert_exporter": "python",
   "pygments_lexer": "ipython3",
   "version": "3.8.8"
  }
 },
 "nbformat": 4,
 "nbformat_minor": 2
}
